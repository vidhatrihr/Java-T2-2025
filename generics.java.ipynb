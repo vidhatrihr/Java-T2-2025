{
 "cells": [
  {
   "cell_type": "code",
   "execution_count": 7,
   "id": "910611b6",
   "metadata": {},
   "outputs": [],
   "source": [
    "List list = new ArrayList();\n",
    "list.add(10);\n",
    "list.add(\"kavana\");\n",
    "\n",
    "int age = (int) list.get(0);\n",
    "String name = (String) list.get(1);"
   ]
  },
  {
   "cell_type": "code",
   "execution_count": 10,
   "id": "7f275efb",
   "metadata": {},
   "outputs": [],
   "source": [
    "List<String> list = new ArrayList();\n",
    "list.add(\"kavana\");\n",
    "list.add(\"paru\");\n",
    "\n",
    "String name = list.get(0);"
   ]
  },
  {
   "cell_type": "code",
   "execution_count": 15,
   "id": "4cba0917",
   "metadata": {},
   "outputs": [],
   "source": [
    "class Box<T> {\n",
    "  private T value;\n",
    "\n",
    "  void set(T value) {\n",
    "    this.value = value;\n",
    "  }\n",
    "\n",
    "  T get() {\n",
    "    return value;\n",
    "  }\n",
    "}\n",
    "\n",
    "Box<Integer> intBox = new Box<>();\n",
    "intBox.set(100);\n",
    "\n",
    "Box<String> strBox = new Box<>();\n",
    "strBox.set(\"paru\")"
   ]
  },
  {
   "cell_type": "code",
   "execution_count": null,
   "id": "767c4c2f",
   "metadata": {},
   "outputs": [],
   "source": [
    "class Util {\n",
    "  <T> void printArray(T[] array) {\n",
    "    for (T item: array) {\n",
    "      System.out.println(item);\n",
    "    }\n",
    "  }\n",
    "}\n",
    "\n",
    "Util<String> "
   ]
  }
 ],
 "metadata": {
  "kernelspec": {
   "display_name": "Java",
   "language": "java",
   "name": "java"
  },
  "language_info": {
   "codemirror_mode": "java",
   "file_extension": ".jshell",
   "mimetype": "text/x-java-source",
   "name": "java",
   "pygments_lexer": "java",
   "version": "21.0.7+8-LTS-245"
  }
 },
 "nbformat": 4,
 "nbformat_minor": 5
}
