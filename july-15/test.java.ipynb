{
 "cells": [
  {
   "cell_type": "markdown",
   "id": "c7cc150f",
   "metadata": {},
   "source": [
    "## Arrays"
   ]
  },
  {
   "cell_type": "code",
   "execution_count": 1,
   "id": "8dea8715",
   "metadata": {
    "vscode": {
     "languageId": "java"
    }
   },
   "outputs": [
    {
     "name": "stdout",
     "output_type": "stream",
     "text": [
      "[0, 0, 0, 0, 0]\n"
     ]
    }
   ],
   "source": [
    "int[] nums = new int[5];\n",
    "System.out.println(Arrays.toString(nums));"
   ]
  },
  {
   "cell_type": "code",
   "execution_count": 2,
   "id": "7fb6b60a",
   "metadata": {
    "vscode": {
     "languageId": "java"
    }
   },
   "outputs": [
    {
     "name": "stdout",
     "output_type": "stream",
     "text": [
      "[vishnu, paru, vidu, rahul]\n"
     ]
    }
   ],
   "source": [
    "String[] names = {\"vishnu\", \"paru\", \"vidu\",\"rahul\"};\n",
    "// String[] names = new String[4];\n",
    "// String[] names = {\"vishnu\", \"paru\", \"vidu\",\"rahul\"};\n",
    "System.out.println(Arrays.toString(names));"
   ]
  },
  {
   "cell_type": "code",
   "execution_count": 3,
   "id": "4946a668",
   "metadata": {
    "vscode": {
     "languageId": "java"
    }
   },
   "outputs": [
    {
     "data": {
      "text/plain": [
       "[1.2, 3.4, 5.6]"
      ]
     },
     "execution_count": 3,
     "metadata": {},
     "output_type": "execute_result"
    }
   ],
   "source": [
    "double[] decimals = {1.2,3.4,5.6};\n",
    "Arrays.toString(decimals)"
   ]
  },
  {
   "cell_type": "code",
   "execution_count": 4,
   "id": "4c17eb60",
   "metadata": {
    "vscode": {
     "languageId": "java"
    }
   },
   "outputs": [
    {
     "data": {
      "text/plain": [
       "[2, 3, 4, 5]"
      ]
     },
     "execution_count": 4,
     "metadata": {},
     "output_type": "execute_result"
    }
   ],
   "source": [
    "int[] numbers = new int[]{2,3,4,5};\n",
    "Arrays.toString(numbers)"
   ]
  },
  {
   "cell_type": "markdown",
   "id": "871d06b7",
   "metadata": {},
   "source": [
    "## Loops"
   ]
  },
  {
   "cell_type": "code",
   "execution_count": 5,
   "id": "c3250694",
   "metadata": {
    "vscode": {
     "languageId": "java"
    }
   },
   "outputs": [
    {
     "name": "stdout",
     "output_type": "stream",
     "text": [
      "2\n",
      "3\n",
      "4\n",
      "5\n"
     ]
    }
   ],
   "source": [
    "  for (int i=0; i < numbers.length; i++) {\n",
    "    System.out.println(numbers[i]);\n",
    "  }"
   ]
  },
  {
   "cell_type": "code",
   "execution_count": 6,
   "id": "4108f68f",
   "metadata": {
    "vscode": {
     "languageId": "java"
    }
   },
   "outputs": [
    {
     "name": "stdout",
     "output_type": "stream",
     "text": [
      "2\n",
      "3\n",
      "4\n",
      "5\n"
     ]
    }
   ],
   "source": [
    "for (int n: numbers) {\n",
    "  System.out.println(n);\n",
    "}"
   ]
  },
  {
   "cell_type": "code",
   "execution_count": 7,
   "id": "d1c4cc69",
   "metadata": {
    "vscode": {
     "languageId": "java"
    }
   },
   "outputs": [
    {
     "name": "stdout",
     "output_type": "stream",
     "text": [
      "straight\n",
      "s\n",
      "u\n",
      "n\n",
      "f\n",
      "l\n",
      "o\n",
      "w\n",
      "e\n",
      "r\n",
      "reverse:\n",
      "r\n",
      "e\n",
      "w\n",
      "o\n",
      "l\n",
      "f\n",
      "n\n",
      "u\n",
      "s\n"
     ]
    }
   ],
   "source": [
    "String flower = \"sunflower\";\n",
    "\n",
    "System.out.println(\"straight\");\n",
    "for (int i=0; i < flower.length(); i++) {\n",
    "  char character = flower.charAt(i);\n",
    "  System.out.println(character);\n",
    "}\n",
    "\n",
    "System.out.println(\"reverse:\");\n",
    "for (int i=flower.length()-1; i>= 0; i--) {\n",
    "  char character = flower.charAt(i);\n",
    "  System.out.println(character);\n",
    "}\n",
    "\n"
   ]
  },
  {
   "cell_type": "code",
   "execution_count": 8,
   "id": "03604841",
   "metadata": {
    "vscode": {
     "languageId": "java"
    }
   },
   "outputs": [
    {
     "name": "stdout",
     "output_type": "stream",
     "text": [
      "s\n",
      "u\n",
      "n\n",
      "f\n",
      "l\n",
      "o\n",
      "w\n",
      "e\n",
      "r\n"
     ]
    }
   ],
   "source": [
    "for (char ch: flower.toCharArray()) {\n",
    "  System.out.println(ch);\n",
    "}"
   ]
  },
  {
   "cell_type": "markdown",
   "id": "c6665c23",
   "metadata": {},
   "source": [
    "## Clone"
   ]
  },
  {
   "cell_type": "code",
   "execution_count": 9,
   "id": "4d6a5f6a",
   "metadata": {
    "vscode": {
     "languageId": "java"
    }
   },
   "outputs": [
    {
     "name": "stdout",
     "output_type": "stream",
     "text": [
      "[0, 0, 0, 0, 0]\n",
      "[0, 0, 0, 0, 0]\n"
     ]
    }
   ],
   "source": [
    "int[] copy1 = nums.clone();\n",
    "System.out.println(Arrays.toString(copy1));\n",
    "\n",
    "int[] copy2 = Arrays.copyOf(nums, nums.length);\n",
    "System.out.println(Arrays.toString(copy2));"
   ]
  },
  {
   "cell_type": "markdown",
   "id": "ca3d5a28",
   "metadata": {},
   "source": [
    "### HashMap"
   ]
  },
  {
   "cell_type": "code",
   "execution_count": 10,
   "id": "ddddd85c",
   "metadata": {
    "vscode": {
     "languageId": "java"
    }
   },
   "outputs": [
    {
     "name": "stdout",
     "output_type": "stream",
     "text": [
      "{paru=90, vidu=90}\n",
      "Found!!\n",
      "{paru=70, vidu=20, vishnu=80}\n",
      "2\n",
      "{}\n"
     ]
    }
   ],
   "source": [
    "Map<String, Integer> students = new HashMap<>();\n",
    "students.put(\"vidu\", 90);\n",
    "students.put(\"paru\", 90);\n",
    "System.out.println(students);\n",
    "\n",
    "Map<String, Integer> scores = new HashMap<>();\n",
    "scores.put(\"vishnu\",80);\n",
    "scores.put(\"paru\", 70);\n",
    "scores;\n",
    "\n",
    "// Operations\n",
    "\n",
    "if(scores.containsKey(\"vishnu\")) {\n",
    "  System.out.println(\"Found!!\");\n",
    "}\n",
    "\n",
    "scores.put(\"vidu\",20);\n",
    "System.out.println(scores);\n",
    "scores.remove(\"vidu\");\n",
    "System.out.println(scores.size());\n",
    "scores.clear();\n",
    "System.out.println(scores);"
   ]
  },
  {
   "cell_type": "code",
   "execution_count": 11,
   "id": "e4e00650",
   "metadata": {
    "vscode": {
     "languageId": "java"
    }
   },
   "outputs": [
    {
     "name": "stdout",
     "output_type": "stream",
     "text": [
      "paru\n",
      "vidu\n",
      "90\n",
      "90\n"
     ]
    }
   ],
   "source": [
    "for (String name: students.keySet()) {\n",
    "  System.out.println(name);\n",
    "}\n",
    "\n",
    "for (Integer mark: students.values()) {\n",
    " System.out.println(mark);\n",
    "}"
   ]
  }
 ],
 "metadata": {
  "kernelspec": {
   "display_name": "Java",
   "language": "java",
   "name": "java"
  },
  "language_info": {
   "codemirror_mode": "java",
   "file_extension": ".jshell",
   "mimetype": "text/x-java-source",
   "name": "Java",
   "pygments_lexer": "java",
   "version": "21.0.7+8-LTS-245"
  }
 },
 "nbformat": 4,
 "nbformat_minor": 5
}
