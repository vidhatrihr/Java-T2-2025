{
 "cells": [
  {
   "cell_type": "code",
   "execution_count": 5,
   "id": "a894c928",
   "metadata": {
    "vscode": {
     "languageId": "java"
    }
   },
   "outputs": [
    {
     "name": "stdout",
     "output_type": "stream",
     "text": [
      "r\n",
      "h\n",
      "l\n"
     ]
    }
   ],
   "source": [
    "String name = \"rahul\";\n",
    "for (int i=0; i< name.length(); i+=2) {\n",
    "  System.out.println(name.charAt(i));\n",
    "}"
   ]
  },
  {
   "cell_type": "code",
   "execution_count": 31,
   "id": "bd2558d8",
   "metadata": {
    "vscode": {
     "languageId": "java"
    }
   },
   "outputs": [
    {
     "name": "stdout",
     "output_type": "stream",
     "text": [
      "105\n"
     ]
    }
   ],
   "source": [
    "n = 5;\n",
    "\n",
    "int sum = 0;\n",
    "\n",
    "for(int i = 1; i <= n; i++) {\n",
    "  for(int j=1; j <= i; j++) {\n",
    "    sum += Math.pow(j, 2);\n",
    "  }\n",
    "}\n",
    "System.out.println(sum);"
   ]
  },
  {
   "cell_type": "code",
   "execution_count": 6,
   "id": "9d1c351e",
   "metadata": {
    "vscode": {
     "languageId": "java"
    }
   },
   "outputs": [
    {
     "name": "stdout",
     "output_type": "stream",
     "text": [
      "[roti, dal]\n",
      "[idli, dal]\n"
     ]
    }
   ],
   "source": [
    "class Employee{\n",
    "  String name;\n",
    "  int age;\n",
    "  String[] favFoods;\n",
    "\n",
    "  public Employee(String name, int age, String[] favFoods) {\n",
    "    this.name = name;\n",
    "    this.age = age;\n",
    "    this.favFoods = favFoods;\n",
    "  }\n",
    "\n",
    "  public Employee(String name, int age, Employee employee) {\n",
    "    this.name = name;\n",
    "    this.age = age;\n",
    "    this.favFoods = employee.favFoods.clone();\n",
    "  }\n",
    "}\n",
    "\n",
    "\n",
    "Employee vidu = new Employee(\"vidu\", 20, new String[]{\"roti\", \"dal\"});\n",
    "Employee rahul = new Employee(\"rahul\", 20, vidu);\n",
    "rahul.favFoods[0] = \"idli\";\n",
    "// rahul.favFoods = new String[]{\"chawal\", \"sambar\"};\n",
    "System.out.println(Arrays.toString(vidu.favFoods));\n",
    "System.out.println(Arrays.toString(rahul.favFoods));"
   ]
  },
  {
   "cell_type": "code",
   "execution_count": 8,
   "id": "4de3b33e",
   "metadata": {
    "vscode": {
     "languageId": "java"
    }
   },
   "outputs": [
    {
     "name": "stdout",
     "output_type": "stream",
     "text": [
      "vidu: yxn\n",
      "rahul: ABC\n"
     ]
    }
   ],
   "source": [
    "class Employee{\n",
    "  String name;\n",
    "  String dept;\n",
    "\n",
    "  public Employee(String name, String dept) {\n",
    "    this.name = name;\n",
    "    this.dept = dept;\n",
    "  }\n",
    "\n",
    "  public void copyDept(Employee employee) {\n",
    "    this.dept = employee.dept;\n",
    "  }\n",
    "}\n",
    "\n",
    "Employee rahul = new Employee(\"rahul\", \"ABC\");\n",
    "Employee vidu = new Employee(\"vidu\", \"XYZ\");\n",
    "vidu.copyDept(rahul);\n",
    "vidu.dept = \"yxn\";\n",
    "System.out.println(\"vidu: \"+vidu.dept);\n",
    "System.out.println(\"rahul: \"+rahul.dept);\n"
   ]
  },
  {
   "cell_type": "code",
   "execution_count": 23,
   "id": "980f8223",
   "metadata": {
    "vscode": {
     "languageId": "java"
    }
   },
   "outputs": [
    {
     "name": "stdout",
     "output_type": "stream",
     "text": [
      "name: Mr rahul\n",
      "id: 1\n",
      "projects: \n",
      "null:P003:P003:"
     ]
    }
   ],
   "source": [
    "class Employee{\n",
    "  String name;\n",
    "  int id;\n",
    "  String[] projects;\n",
    "\n",
    "  public Employee(String name, int id, String[] projects) {\n",
    "    this.name = name;\n",
    "    this.id = id;\n",
    "    this.projects = projects;\n",
    "  }\n",
    "\n",
    "  public Employee(Employee employee) {\n",
    "    name = employee.name;\n",
    "    id = employee.id;\n",
    "    projects = employee.projects.clone();\n",
    "  }\n",
    "\n",
    "  public void display() {\n",
    "    System.out.println(\"name: \" + name);\n",
    "    System.out.println(\"id: \" + id);\n",
    "\n",
    "    System.out.println(\"projects: \");\n",
    "    for(String project : projects) {\n",
    "      System.out.print(project+ \":\");\n",
    "    }\n",
    "  }\n",
    "\n",
    "  public void mutator() {\n",
    "    this.name = \"Mr \" + name;\n",
    "    this.projects[0] = null;\n",
    "  }\n",
    "}\n",
    "\n",
    "Employee rahul = new Employee(\"rahul\", 1, new String[]{\"P001\", \"P003\", \"P003\"});\n",
    "Employee vidu = new Employee(rahul);\n",
    "vidu.mutator();\n",
    "vidu.display();"
   ]
  },
  {
   "cell_type": "code",
   "execution_count": 31,
   "id": "4097b5b2",
   "metadata": {
    "vscode": {
     "languageId": "java"
    }
   },
   "outputs": [
    {
     "name": "stdout",
     "output_type": "stream",
     "text": [
      "Before setting s2: Nand: C002\n",
      "Nand: C002\n",
      "rahul: ML\n"
     ]
    }
   ],
   "source": [
    "class Student{\n",
    "  private String name;\n",
    "  private String[] courses;\n",
    "\n",
    "  public Student(String name, String[] courses) {\n",
    "    this.name = name;\n",
    "    this.courses = courses;\n",
    "  }\n",
    "\n",
    "  public Student(Student student) {\n",
    "    this.name = student.name;\n",
    "    this.courses = student.courses.clone();\n",
    "  }\n",
    "\n",
    "  public void setName(String name) {\n",
    "    this.name = name;\n",
    "  }\n",
    "\n",
    "  public void setCourse(int idx, String course) {\n",
    "    this.courses[idx] = course;\n",
    "  }\n",
    "\n",
    "  public String getName() {\n",
    "    return name;\n",
    "  }\n",
    "\n",
    "  public String getCourses(int idx) {\n",
    "    return courses[idx];\n",
    "  }\n",
    "}\n",
    "\n",
    "String[] courses ={\"C001\",\"C002\",\"C003\"}; \n",
    "// System.out.println(Arrays.toString(courses));\n",
    "Student s1 = new Student(\"Nand\", courses);\n",
    "Student s2 = new Student(s1);\n",
    "\n",
    "System.out.println(\"Before setting s2: \"+ s2.getName() + \": \" + s2.getCourses(1));\n",
    "s2.setCourse(1,\"ML\");\n",
    "s2.setName(\"rahul\");\n",
    "\n",
    "System.out.println(s1.getName() + \": \" + s1.getCourses(1));\n",
    "System.out.println(s2.getName() + \": \" + s2.getCourses(1));"
   ]
  },
  {
   "cell_type": "code",
   "execution_count": 5,
   "id": "86d6ea41",
   "metadata": {
    "vscode": {
     "languageId": "java"
    }
   },
   "outputs": [
    {
     "name": "stdout",
     "output_type": "stream",
     "text": [
      "5.0\n",
      "1.0\n"
     ]
    }
   ],
   "source": [
    "class Calculator{\n",
    "  public void sum(double a, double b) {System.out.println(a+b);}\n",
    "  public void subtract(double a, double b) {System.out.println(a-b);}\n",
    "  public void multiply(double a, double b) {System.out.println(a*b);}\n",
    "  public void divide(double a, double b) {\n",
    "    if(b != 0) {\n",
    "      System.out.println(a/b);\n",
    "    }\n",
    "  };\n",
    "}\n",
    "\n",
    "class UpdatedCalculator extends Calculator{\n",
    "public void reminder(double a, double b) {\n",
    "  if(b != 0) {\n",
    "    System.out.println(a%b);\n",
    "  }\n",
    "}\n",
    "}\n",
    "\n",
    "UpdatedCalculator calc = new UpdatedCalculator();\n",
    "\n",
    "calc.sum(2,3);\n",
    "calc.subtract(3,2);"
   ]
  },
  {
   "cell_type": "code",
   "execution_count": null,
   "id": "f08f1028",
   "metadata": {
    "vscode": {
     "languageId": "java"
    }
   },
   "outputs": [
    {
     "name": "stdout",
     "output_type": "stream",
     "text": [
      "(2, 3)!=(1, 4)\n"
     ]
    }
   ],
   "source": [
    "class Point {\n",
    "  private int x, y;\n",
    "  public Point(int pt_1, int pt_2) {\n",
    "    x = pt_1;\n",
    "    y = pt_2;\n",
    "  }\n",
    "\n",
    "  public boolean equals(Point point) {\n",
    "    if (x == point.x && y == point.y) {\n",
    "      return true;\n",
    "    }\n",
    "    else {return false;}\n",
    "  }\n",
    "\n",
    "  public String toString() {\n",
    "    return String.format(\"(%s, %s)\", x,y);\n",
    "  }\n",
    "}\n",
    "\n",
    "Point point1 = new Point(2,3);\n",
    "Point point2 = new Point(1,4);\n",
    "point1.equals(point2);\n",
    "\n",
    "\t\t\n",
    "if(point1.equals(point2))\n",
    "  System.out.println(point1 + \"==\" + point2);\n",
    "else\n",
    "  System.out.println(point1 + \"!=\" + point2);"
   ]
  },
  {
   "cell_type": "code",
   "execution_count": 20,
   "id": "d47ffe01",
   "metadata": {
    "vscode": {
     "languageId": "java"
    }
   },
   "outputs": [
    {
     "name": "stdout",
     "output_type": "stream",
     "text": [
      "name: rahul\n",
      "aadhaarNum: 1234\n",
      "salary: 500.0\n"
     ]
    }
   ],
   "source": [
    "class Person {\n",
    "  private String name;\n",
    "  private long aadhaarNum;\n",
    "\n",
    "  public Person(String name, long aadhaarNum) {\n",
    "    this.name = name;\n",
    "    this.aadhaarNum = aadhaarNum;\n",
    "  }\n",
    "\n",
    "  public void print() {\n",
    "    System.out.println(\"name: \" + name);\n",
    "    System.out.println(\"aadhaarNum: \" + aadhaarNum);\n",
    "  }\n",
    "}\n",
    "\n",
    "class Employee extends Person {\n",
    "  private double salary;\n",
    "\n",
    "  public Employee(String name, long aadhaarNum,double salary) {\n",
    "    super(name, aadhaarNum);\n",
    "    this.salary = salary;\n",
    "  }\n",
    "\n",
    "  public void print() {\n",
    "    super.print();\n",
    "    System.out.println(\"salary: \" + salary);\n",
    "  }\n",
    "}\n",
    "\n",
    "class ContactEmployee extends Employee {\n",
    "  private static final int hourlyPay = 100;\n",
    "  private int contactHour;\n",
    "\n",
    "  public ContactEmployee(String name, long aadhaarNum, int contactHour) {\n",
    "    super(name, aadhaarNum, hourlyPay * contactHour);\n",
    "    this.contactHour = contactHour;\n",
    "  }\n",
    "}\n",
    "\n",
    "Employee rahul = new ContactEmployee(\"rahul\",1234, 5);\n",
    "rahul.print();"
   ]
  },
  {
   "cell_type": "code",
   "execution_count": 10,
   "id": "6f163f40",
   "metadata": {
    "vscode": {
     "languageId": "java"
    }
   },
   "outputs": [],
   "source": [
    "class Shape {\n",
    "  public int area() {\n",
    "    return 0;\n",
    "  }\n",
    "\n",
    "  public int volume() {\n",
    "    return 0;\n",
    "  }\n",
    "}\n",
    "\n",
    "class Rectangle extends Shape {\n",
    "  private int width, height;\n",
    "\n",
    "  public Rectangle(int width, int height) {\n",
    "    this.width = width;\n",
    "    this.height = height;\n",
    "  }\n",
    "\n",
    "  public int area() {\n",
    "    return width * height;\n",
    "  }\n",
    "}\n",
    "\n",
    "class Cube extends Shape {\n",
    "  private int length;\n",
    "\n",
    "  public Cube(int length) {\n",
    "    this.length = length;\n",
    "  }\n",
    "\n",
    "  public int area() {\n",
    "    return 6 * length * length;\n",
    "  }\n",
    "\n",
    "  public int volume() {\n",
    "    return length*length*length;\n",
    "  }\n",
    "}\n",
    "\n",
    "class FClass {\n",
    "  private static void caller(Shape s) {\n",
    "    if(s instanceof Rectangle) {\n",
    "      System.out.println(s.area());\n",
    "    }\n",
    "\n",
    "    if(s instanceof Cube) {\n",
    "      System.out.println(s.volume());\n",
    "    }\n",
    "  }\n",
    "\n",
    "  public static void main(String[] args) {\n",
    "    caller(new Rectangle(2,2));\n",
    "    caller(new Cube(2));\n",
    "    \n",
    "  }\n",
    "}\n",
    "\n"
   ]
  },
  {
   "cell_type": "markdown",
   "id": "3e01eada",
   "metadata": {},
   "source": [
    "## Mock"
   ]
  },
  {
   "cell_type": "code",
   "execution_count": 18,
   "id": "3284e92c",
   "metadata": {
    "vscode": {
     "languageId": "java"
    }
   },
   "outputs": [
    {
     "name": "stdout",
     "output_type": "stream",
     "text": [
      "name: rahul\n",
      "salary: 1000.0\n",
      "bonus: 200.0\n",
      "name: rahul\n",
      "salary: 1000.0\n",
      "personalAssistant: xyz\n",
      "bonus: 100.0\n"
     ]
    }
   ],
   "source": [
    "class Faculty {\n",
    "  private String name;\n",
    "  private double salary;\n",
    "\n",
    "  public Faculty(String name, double salary) {\n",
    "    this.name = name;\n",
    "    this.salary = salary;\n",
    "  }\n",
    "\n",
    "  public double bonus(float percent) {\n",
    "    return (percent/100.0) * salary;\n",
    "  }\n",
    "\n",
    "  public void getDetails() {\n",
    "    System.out.println(\"name: \"+ name);\n",
    "    System.out.println(\"salary: \"+ salary);\n",
    "  }\n",
    "\n",
    "  public void getDetails(float percent) {\n",
    "    System.out.println(\"name: \"+ name);\n",
    "    System.out.println(\"salary: \"+ salary);    \n",
    "    System.out.println(\"bonus: \"+ bonus(percent));    \n",
    "  }\n",
    "}\n",
    "\n",
    "class Hod extends Faculty {\n",
    "  private String personalAssistant;\n",
    "  private String name;\n",
    "  private double salary;\n",
    "\n",
    "  public Hod(String name, double salary, String pa) {\n",
    "    super(name, salary);\n",
    "    personalAssistant = pa;\n",
    "    this.name = name;\n",
    "    this.salary = salary;\n",
    "  }\n",
    "\n",
    "  public double bonus(float percent) {\n",
    "    return (percent/200.0)* salary;\n",
    "  }\n",
    "\n",
    "  public void getDetails() {\n",
    "    System.out.println(\"name: \"+ name);\n",
    "    System.out.println(\"salary: \"+ salary);\n",
    "    System.out.println(\"personalAssistant: \"+ personalAssistant);\n",
    "  }\n",
    "\n",
    "  public void getDetails(float percent) {\n",
    "    System.out.println(\"name: \"+ name);\n",
    "    System.out.println(\"salary: \"+ salary);\n",
    "    System.out.println(\"personalAssistant: \"+ personalAssistant);\n",
    "    System.out.println(\"bonus: \"+ bonus(percent));    \n",
    "  }\n",
    "}\n",
    "\n",
    "Faculty sir1 = new Faculty(\"rahul\", 1000);\n",
    "Hod sir2 = new Hod(\"rahul\", 1000, \"xyz\");\n",
    "sir1.getDetails(20);\n",
    "sir2.getDetails(20);\n"
   ]
  },
  {
   "cell_type": "code",
   "execution_count": null,
   "id": "b064af9a",
   "metadata": {
    "vscode": {
     "languageId": "java"
    }
   },
   "outputs": [
    {
     "ename": "CompilationException",
     "evalue": "",
     "output_type": "error",
     "traceback": [
      "\u001b[1m\u001b[30m|   \u001b[1m\u001b[30minterface Appraisable {\u001b[0m",
      "\u001b[1m\u001b[30m|   \u001b[1m\u001b[30m  default void appraisable(Teacher sir) {\u001b[0m",
      "\u001b[1m\u001b[30m|   \u001b[1m\u001b[30m    double newSalary = sir.getSalary() + sir.getPassPercent() / 100 *5000;\u001b[0m",
      "\u001b[1m\u001b[30m|   \u001b[1m\u001b[30m    sir.setSalary(newSalary);\u001b[0m",
      "\u001b[1m\u001b[30m|   \u001b[1m\u001b[30m  }\u001b[0m",
      "\u001b[1m\u001b[30m|   \u001b[1m\u001b[30m\u001b[0m",
      "\u001b[1m\u001b[30m|   \u001b[1m\u001b[30m  public abstract void checkAndUpdateSalary();\u001b[0m",
      "\u001b[1m\u001b[30m|   \u001b[1m\u001b[30m}\u001b[0m",
      "\u001b[1m\u001b[31mUnresolved dependencies:\u001b[0m",
      "\u001b[1m\u001b[31m   - class Teacher\u001b[0m"
     ]
    }
   ],
   "source": [
    "interface Appraisable {\n",
    "  default void appraisal(Teacher sir) {\n",
    "    double newSalary = sir.getSalary() + sir.getPassPercent() / 100 * 5000;\n",
    "    sir.setSalary(newSalary);\n",
    "  }\n",
    "\n",
    "  public abstract void checkAndUpdateSalary();\n",
    "}\n",
    "\n",
    "interface SpecialAppraisable extends Appraisable {\n",
    "  default void spAppraisal(Teacher sir) { \n",
    "    double newSalary = sir.getSalary() + sir.getPassPercent() / 100 * 10000;\n",
    "  }\n",
    "}\n",
    "\n",
    "class Teacher implements SpecialAppraisable {\n",
    "  private String name;\n",
    "  private double salary;\n",
    "  private double passPercent;\n",
    "\n",
    "  public Teacher(String name, double salary, double passPercent) {\n",
    "    this.name = name;\n",
    "    this.salary = salary;\n",
    "    this.passPercent = passPercent;\n",
    "  }\n",
    "\n",
    "  public double getSalary() {\n",
    "    return salary;\n",
    "  }\n",
    "\n",
    "  public double setSalary(double salary) {\n",
    "    this.salary = salary;\n",
    "  }\n",
    "\n",
    "  public double getPassPercent() {\n",
    "    return passPercent;\n",
    "  }\n",
    "\n",
    "  public String toString() {\n",
    "    return name + \",\" + salary +\",\" + passPercent;\n",
    "  }\n",
    "\n",
    "  public void checkAndUpdateSalary() {\n",
    "    if(passPercent >= 60 && passPercent < 75) {\n",
    "      appraisal(this);\n",
    "    }\n",
    "    else if(passPercent >= 75 && passPercent < 100) {\n",
    "      spAppraisal(this);\n",
    "    }\n",
    "  }\n",
    "}\n",
    "\n",
    "class InterfaceTest {\n",
    "  public void printUpdatedTeachList(Teacher[] tList) {\n",
    "    for(Teacher teacher: tList) {\n",
    "      checkAndUpdateSalary();\n",
    "      System.out.println(teacher);\n",
    "    }\n",
    "  }\n",
    "}\n",
    "\n",
    "Teacher sir1 = new Teacher(\"paru\", 10000, 50);\n",
    "Teacher sir2 = new Teacher(\"vishnu\", 10000, 70);\n",
    "Teacher sir3 = new Teacher(\"kavana\", 10000, 80);\n",
    "Teacher[] tList = {sir1, sir2, sir3};\n",
    "\n",
    "InterfaceTest.printUpdatedTeachList(tList);\n"
   ]
  }
 ],
 "metadata": {
  "kernelspec": {
   "display_name": "Java",
   "language": "java",
   "name": "java"
  },
  "language_info": {
   "codemirror_mode": "java",
   "file_extension": ".jshell",
   "mimetype": "text/x-java-source",
   "name": "Java",
   "pygments_lexer": "java",
   "version": "21.0.7+8-LTS-245"
  }
 },
 "nbformat": 4,
 "nbformat_minor": 5
}
