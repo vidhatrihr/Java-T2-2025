{
 "cells": [
  {
   "cell_type": "code",
   "execution_count": 6,
   "id": "f63de540",
   "metadata": {},
   "outputs": [
    {
     "data": {
      "text/plain": [
       "90"
      ]
     },
     "execution_count": 6,
     "metadata": {},
     "output_type": "execute_result"
    }
   ],
   "source": [
    "class IntBox {\n",
    "  private int item;\n",
    "\n",
    "  int getItem() {\n",
    "    return item;\n",
    "  }\n",
    "\n",
    "  void setItem(int item) {\n",
    "    this.item = item;\n",
    "  }\n",
    "}\n",
    "\n",
    "IntBox box = new IntBox();\n",
    "box.setItem(90);\n",
    "box.getItem();"
   ]
  },
  {
   "cell_type": "code",
   "execution_count": 5,
   "id": "b323016f",
   "metadata": {},
   "outputs": [
    {
     "data": {
      "text/plain": [
       "Star"
      ]
     },
     "execution_count": 5,
     "metadata": {},
     "output_type": "execute_result"
    }
   ],
   "source": [
    "class StringBox {\n",
    "  private String item;\n",
    "\n",
    "  String getItem() {\n",
    "    return item;\n",
    "  }\n",
    "\n",
    "  void setItem(String item) {\n",
    "    this.item = item;\n",
    "  }\n",
    "}\n",
    "\n",
    "StringBox box = new StringBox();\n",
    "box.setItem(\"Star\");\n",
    "box.getItem();"
   ]
  },
  {
   "cell_type": "code",
   "execution_count": 9,
   "id": "eefff0be",
   "metadata": {},
   "outputs": [],
   "source": [
    "class Box<T> {\n",
    "  private T item;\n",
    "\n",
    "  T getItem() {\n",
    "    return item;\n",
    "  }\n",
    "\n",
    "  void setItem(T item) {\n",
    "    this.item = item;\n",
    "  }\n",
    "}\n",
    "\n",
    "Box<Integer> box1 = new Box<>();\n",
    "Box<String> box2 = new Box<>();\n",
    "Box<Boolean> box3 = new Box<>();\n",
    "\n",
    "box1.setItem(90);\n"
   ]
  },
  {
   "cell_type": "code",
   "execution_count": 21,
   "id": "12d2f0c4",
   "metadata": {},
   "outputs": [
    {
     "name": "stdout",
     "output_type": "stream",
     "text": [
      "Hello Star\n",
      "Hello 80\n",
      "Hello Hello\n"
     ]
    }
   ],
   "source": [
    "class Util {\n",
    "   <T> void sayHello(T item) {\n",
    "    System.out.println(\"Hello \" + item);\n",
    "  }\n",
    "}\n",
    "\n",
    "new Util().sayHello(\"Star\");\n",
    "new Util().sayHello(80);\n",
    "\n",
    "Util myUtil = new Util();\n",
    "myUtil.sayHello(\"Hello\")"
   ]
  },
  {
   "cell_type": "code",
   "execution_count": 30,
   "id": "a98c2e4d",
   "metadata": {},
   "outputs": [
    {
     "data": {
      "text/plain": [
       "20"
      ]
     },
     "execution_count": 30,
     "metadata": {},
     "output_type": "execute_result"
    }
   ],
   "source": [
    "List list = new ArrayList();\n",
    "list.add(20);\n",
    "list.add(\"Star\");\n",
    "list.add(true);\n",
    "\n",
    "int num = (int) list.get(0);\n",
    "num"
   ]
  },
  {
   "cell_type": "code",
   "execution_count": 36,
   "id": "ac326b99",
   "metadata": {},
   "outputs": [
    {
     "data": {
      "text/plain": [
       "true"
      ]
     },
     "execution_count": 36,
     "metadata": {},
     "output_type": "execute_result"
    }
   ],
   "source": [
    "List<Integer> list = new ArrayList<>();\n",
    "list.add(90);\n",
    "// list.add(\"Star\");"
   ]
  },
  {
   "cell_type": "code",
   "execution_count": null,
   "id": "ac70984f",
   "metadata": {},
   "outputs": [
    {
     "name": "stdout",
     "output_type": "stream",
     "text": [
      "2\n",
      "6\n",
      "1\n"
     ]
    },
    {
     "name": "stdout",
     "output_type": "stream",
     "text": [
      "vidu\n",
      "rahul\n",
      "paru\n"
     ]
    }
   ],
   "source": [
    "class Util {\n",
    "  static <T> void printArray(T[] items) {\n",
    "    for (T item : items) {\n",
    "      System.out.println(item);\n",
    "    }\n",
    "  }\n",
    "}\n",
    "\n",
    "Util.printArray(new Integer[]{2,6,1});\n",
    "Util.printArray(new String[]{\"vidu\", \"rahul\", \"paru\"});"
   ]
  },
  {
   "cell_type": "code",
   "execution_count": 53,
   "id": "e27c091e",
   "metadata": {},
   "outputs": [
    {
     "name": "stdout",
     "output_type": "stream",
     "text": [
      "30\n",
      "20\n",
      "10\n",
      "Apple\n",
      "Banana\n"
     ]
    }
   ],
   "source": [
    "class Util {\n",
    "  static <T> void printList(List<T> list) {\n",
    "    for (T elem : list) {\n",
    "      System.out.println(elem);\n",
    "    }\n",
    "  }\n",
    "}\n",
    "\n",
    "List<Integer> lst = new ArrayList<>();\n",
    "List<String> lst2 = new ArrayList<>();\n",
    "\n",
    "lst2.add(\"Apple\");\n",
    "lst2.add(\"Banana\");\n",
    "lst.add(30);\n",
    "lst.add(20);\n",
    "lst.add(10);\n",
    "\n",
    "Util.printList(lst);\n",
    "Util.printList(lst2);"
   ]
  },
  {
   "cell_type": "code",
   "execution_count": 59,
   "id": "5ab2e1c5",
   "metadata": {},
   "outputs": [
    {
     "name": "stdout",
     "output_type": "stream",
     "text": [
      "30\n",
      "20\n",
      "10\n",
      "2.3\n",
      "2.5555\n"
     ]
    }
   ],
   "source": [
    "class Util {\n",
    "  static <T extends Number> void printList(List<T> list) {\n",
    "    for (T elem : list) {\n",
    "      System.out.println(elem);\n",
    "    }\n",
    "  }\n",
    "}\n",
    "\n",
    "List<Integer> lst = new ArrayList<>();\n",
    "List<String> lst2 = new ArrayList<>();\n",
    "List<Double> lst3 = new ArrayList<>();\n",
    "\n",
    "lst2.add(\"Apple\");\n",
    "lst2.add(\"Banana\");\n",
    "lst.add(30);\n",
    "lst.add(20);\n",
    "lst.add(10);\n",
    "lst3.add(2.3);\n",
    "lst3.add(2.5555);\n",
    "\n",
    "\n",
    "Util.printList(lst);\n",
    "// Util.printList(lst2);\n",
    "Util.printList(lst3);"
   ]
  },
  {
   "cell_type": "code",
   "execution_count": null,
   "id": "c5122d22",
   "metadata": {},
   "outputs": [],
   "source": []
  }
 ],
 "metadata": {
  "kernelspec": {
   "display_name": "Java",
   "language": "java",
   "name": "java"
  },
  "language_info": {
   "codemirror_mode": "java",
   "file_extension": ".jshell",
   "mimetype": "text/x-java-source",
   "name": "java",
   "pygments_lexer": "java",
   "version": "21.0.7+8-LTS-245"
  }
 },
 "nbformat": 4,
 "nbformat_minor": 5
}
