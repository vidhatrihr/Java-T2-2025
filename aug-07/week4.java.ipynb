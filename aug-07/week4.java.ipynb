{
 "cells": [
  {
   "cell_type": "code",
   "execution_count": 2,
   "id": "2db958fc",
   "metadata": {},
   "outputs": [],
   "source": [
    "class Bank {\n",
    "  class Account {}\n",
    "}\n",
    "\n",
    "Bank bank = new Bank();\n",
    "Bank.Account acc = bank.new Account();"
   ]
  },
  {
   "cell_type": "code",
   "execution_count": 4,
   "id": "8c569d59",
   "metadata": {},
   "outputs": [],
   "source": [
    "class Bank {\n",
    "  private class Account {}\n",
    "\n",
    "  void makeAccount() {\n",
    "    Account acc = new Account();\n",
    "  }\n",
    "}\n",
    "\n",
    "Bank bank = new Bank();\n",
    "bank.makeAccount();\n"
   ]
  },
  {
   "cell_type": "code",
   "execution_count": 13,
   "id": "f4fe8472",
   "metadata": {},
   "outputs": [
    {
     "ename": "EvalException",
     "evalue": "Hey bhagwan, zyada hogya",
     "output_type": "error",
     "traceback": [
      "\u001b[1m\u001b[31m---------------------------------------------------------------------------\u001b[0m",
      "\u001b[1m\u001b[31mjava.lang.IllegalArgumentException: Hey bhagwan, zyada hogya\u001b[0m",
      "\u001b[1m\u001b[31m\tat Student.setName(#16:8)\u001b[0m",
      "\u001b[1m\u001b[31m\tat .(#31:1)\u001b[0m"
     ]
    }
   ],
   "source": [
    "class Student {\n",
    "  private String name;\n",
    "\n",
    "  void setName(String name) {\n",
    "    if (name.length() <= 5) {\n",
    "      this.name = name;\n",
    "    } else {\n",
    "      throw new IllegalArgumentException(\"Hey bhagwan, zyada hogya\");\n",
    "    }\n",
    "  }\n",
    "\n",
    "  String getName() {\n",
    "    return name;\n",
    "  }\n",
    "}\n",
    "\n",
    "Student vidu = new Student();\n",
    "vidu.setName(\"Harikesh\");\n",
    "System.out.println(vidu.getName());"
   ]
  },
  {
   "cell_type": "code",
   "execution_count": 1,
   "id": "452aecfa",
   "metadata": {},
   "outputs": [
    {
     "name": "stdout",
     "output_type": "stream",
     "text": [
      "vidu, 20\n",
      "rahul, 20\n",
      "paru, 20\n"
     ]
    }
   ],
   "source": [
    "class Account {\n",
    "  int balance;\n",
    "  String holderName;\n",
    "\n",
    "  Account(String holderName, int balance) {\n",
    "    this.holderName = holderName;\n",
    "    this.balance = balance;\n",
    "  }\n",
    "}\n",
    "\n",
    "class Bank implements Iterable<Account> {\n",
    "  List<Account> accounts = new ArrayList<>();\n",
    "\n",
    "  void makeAccount(String holderName, int balance, String docs) {\n",
    "    if (docs == \"kyc valid\") {\n",
    "      Account acc = new Account(holderName, balance);\n",
    "      accounts.add(acc);\n",
    "    }\n",
    "  }\n",
    "\n",
    "  public Iterator<Account> iterator() {\n",
    "    return accounts.iterator(); \n",
    "  }\n",
    "}\n",
    "\n",
    "\n",
    "Bank sbi = new Bank();\n",
    "sbi.makeAccount(\"vidu\", 20, \"kyc valid\");\n",
    "sbi.makeAccount(\"rahul\", 20, \"kyc valid\");\n",
    "sbi.makeAccount(\"paru\", 20, \"kyc valid\");\n",
    "\n",
    "for (Account acc : sbi) {\n",
    "  System.out.println(acc.holderName + \", \" + acc.balance);\n",
    "}"
   ]
  },
  {
   "cell_type": "code",
   "execution_count": 7,
   "id": "92e139eb",
   "metadata": {},
   "outputs": [
    {
     "name": "stdout",
     "output_type": "stream",
     "text": [
      "Banana\n",
      "Apple\n",
      "Kiwi\n"
     ]
    }
   ],
   "source": [
    "List<String> fruits = new ArrayList<>();\n",
    "fruits.add(\"Banana\");\n",
    "fruits.add(\"Apple\");\n",
    "fruits.add(\"Kiwi\");\n",
    "\n",
    "Iterator<String> itr = fruits.iterator();\n",
    "\n",
    "while (itr.hasNext()) {\n",
    "  System.out.println(itr.next());\n",
    "}\n",
    "\n",
    "// for (String fruit : fruits) {\n",
    "//   System.out.println(fruit);\n",
    "// }"
   ]
  },
  {
   "cell_type": "code",
   "execution_count": 3,
   "id": "ba43167b",
   "metadata": {},
   "outputs": [
    {
     "name": "stdout",
     "output_type": "stream",
     "text": [
      "apple\n",
      "banana\n",
      "kiwi\n"
     ]
    }
   ],
   "source": [
    "class FruitsIterator implements Iterator<String> {\n",
    "  String[] fruits = new String[]{\"apple\", \"banana\", \"kiwi\"};\n",
    "  int index = 0;\n",
    "\n",
    "  public boolean hasNext() {\n",
    "    if (index < fruits.length) {\n",
    "      return true;\n",
    "    }\n",
    "    return false;\n",
    "  }\n",
    "\n",
    "  public String next() {\n",
    "    return fruits[index++];\n",
    "  }\n",
    "}\n",
    "\n",
    "class Shop implements Iterable<String> {\n",
    "  public Iterator<String> iterator() {\n",
    "    return new FruitsIterator();\n",
    "  }\n",
    "}\n",
    "\n",
    "Shop shop = new Shop();\n",
    "\n",
    "// for (String fruit : shop) {\n",
    "//   System.out.println(fruit);\n",
    "// }\n",
    "\n",
    "Iterator<String> itr = shop.iterator();\n",
    "while (itr.hasNext()) {\n",
    "  System.out.println(itr.next());\n",
    "}"
   ]
  },
  {
   "cell_type": "code",
   "execution_count": 7,
   "id": "a69c2f6f",
   "metadata": {},
   "outputs": [
    {
     "name": "stdout",
     "output_type": "stream",
     "text": [
      "vidu\n",
      "rahul\n",
      "paru\n"
     ]
    }
   ],
   "source": [
    "class Student {\n",
    "  String name;\n",
    "  Student(String name) {\n",
    "    this.name = name;\n",
    "  }\n",
    "}\n",
    "\n",
    "class School implements Iterable<Student> {\n",
    "  List<Student> students = new ArrayList<>();\n",
    "  void admission(String name) {\n",
    "    students.add(new Student(name));\n",
    "  }\n",
    "\n",
    "  public Iterator<Student> iterator() {\n",
    "    return students.iterator();\n",
    "  }\n",
    "}\n",
    "\n",
    "School rvk = new School();\n",
    "rvk.admission(\"vidu\");\n",
    "rvk.admission(\"rahul\");\n",
    "rvk.admission(\"paru\");\n",
    "\n",
    "for (Student std : rvk) {\n",
    "  System.out.println(std.name);\n",
    "}"
   ]
  },
  {
   "cell_type": "code",
   "execution_count": 6,
   "id": "5bacf9cb",
   "metadata": {},
   "outputs": [
    {
     "name": "stdout",
     "output_type": "stream",
     "text": [
      "Doing some work...\n",
      "Callback received!\n"
     ]
    }
   ],
   "source": [
    "interface Callback {\n",
    "    void onDone();\n",
    "}\n",
    "\n",
    "class Task {\n",
    "    void runTask(Callback cb) {\n",
    "        System.out.println(\"Doing some work...\");\n",
    "        cb.onDone();  // Calling back\n",
    "    }\n",
    "}\n",
    "\n",
    "\n",
    "Task t = new Task();\n",
    "t.runTask(new Callback() {\n",
    "  public void onDone() {\n",
    "    System.out.println(\"Callback received!\");\n",
    "  }\n",
    "});\n",
    "    "
   ]
  },
  {
   "cell_type": "code",
   "execution_count": 4,
   "id": "c67ae04a",
   "metadata": {},
   "outputs": [],
   "source": [
    "class Animal {\n",
    "\n",
    "  private class Human {\n",
    "\n",
    "  }\n",
    "\n",
    "  public static void test() {\n",
    "    new Animal().new Human();\n",
    "  }\n",
    "}"
   ]
  },
  {
   "cell_type": "code",
   "execution_count": 6,
   "id": "de13d790",
   "metadata": {},
   "outputs": [],
   "source": [
    "class Missile {\n",
    "  void launch() {}\n",
    "}\n",
    "\n",
    "class Mission {\n",
    "  static void go(Missile missile) {\n",
    "    missile.launch();\n",
    "  }\n",
    "}\n",
    "\n",
    "Mission.go(new Missile());"
   ]
  },
  {
   "cell_type": "code",
   "execution_count": 16,
   "id": "0fcc2d31",
   "metadata": {},
   "outputs": [
    {
     "name": "stdout",
     "output_type": "stream",
     "text": [
      "Mission in progress.\n",
      "celebrate.\n"
     ]
    }
   ],
   "source": [
    "interface Callback {\n",
    "  abstract void run();\n",
    "}\n",
    "\n",
    "class Mission {\n",
    "  void go(Callback cb) {\n",
    "    System.out.println(\"Mission in progress.\");\n",
    "    cb.run();\n",
    "  }\n",
    "}\n",
    "\n",
    "new Mission().go(() -> System.out.println(\"celebrate.\"));\n",
    "\n",
    "// new Mission().go(new Callback() {\n",
    "//   public void run() {\n",
    "//     System.out.println(\"celebrate\");\n",
    "//   }\n",
    "// })\n",
    "\n",
    "// class MyCallback implements Callback {\n",
    "//   public void run() {\n",
    "//     System.out.println(\"celebrate.\");\n",
    "//   }\n",
    "// }\n",
    "\n",
    "// new Mission().go(new MyCallback());"
   ]
  },
  {
   "cell_type": "code",
   "execution_count": null,
   "id": "3ce9a68a",
   "metadata": {},
   "outputs": [
    {
     "ename": "CompilationException",
     "evalue": "",
     "output_type": "error",
     "traceback": [
      "\u001b[1m\u001b[30m|   \u001b[1m\u001b[30mb.fly\u001b[0m\u001b[1m\u001b[30m\u001b[41m\u001b[0m\u001b[1m\u001b[30m();\u001b[0m",
      "\u001b[1m\u001b[31m<identifier> expected\u001b[0m",
      "",
      "\u001b[1m\u001b[30m|   \u001b[1m\u001b[30mb.move\u001b[0m\u001b[1m\u001b[30m\u001b[41m\u001b[0m\u001b[1m\u001b[30m();\u001b[0m",
      "\u001b[1m\u001b[31m<identifier> expected\u001b[0m",
      "",
      "\u001b[1m\u001b[30m|   \u001b[1m\u001b[30mb.travel\u001b[0m\u001b[1m\u001b[30m\u001b[41m\u001b[0m\u001b[1m\u001b[30m();\u001b[0m",
      "\u001b[1m\u001b[31m<identifier> expected\u001b[0m",
      "",
      "\u001b[1m\u001b[30m|   \u001b[1m\u001b[30m\u001b[0m\u001b[1m\u001b[30m\u001b[41mb.fly\u001b[0m\u001b[1m\u001b[30m();\u001b[0m",
      "\u001b[1m\u001b[31mpackage b does not exist\u001b[0m",
      "",
      "\u001b[1m\u001b[30m|   \u001b[1m\u001b[30m\u001b[0m\u001b[1m\u001b[30m\u001b[41mb.move\u001b[0m\u001b[1m\u001b[30m();\u001b[0m",
      "\u001b[1m\u001b[31mpackage b does not exist\u001b[0m",
      "",
      "\u001b[1m\u001b[30m|   \u001b[1m\u001b[30m\u001b[0m\u001b[1m\u001b[30m\u001b[41mb.travel\u001b[0m\u001b[1m\u001b[30m();\u001b[0m",
      "\u001b[1m\u001b[31mpackage b does not exist\u001b[0m",
      "",
      "\u001b[1m\u001b[30m|   \u001b[1m\u001b[30m   \u001b[0m\u001b[1m\u001b[30m\u001b[41mpublic class Bird implements Flyable, Movable{\u001b[0m",
      "\u001b[1m\u001b[30m|   \u001b[1m\u001b[30m\u001b[41m          public void fly() {\u001b[0m",
      "\u001b[1m\u001b[30m|   \u001b[1m\u001b[30m\u001b[41m                System.out.println(\"fly with wings\");\u001b[0m",
      "\u001b[1m\u001b[30m|   \u001b[1m\u001b[30m\u001b[41m          }\u001b[0m",
      "\u001b[1m\u001b[30m|   \u001b[1m\u001b[30m\u001b[41m          public void move() {\u001b[0m",
      "\u001b[1m\u001b[30m|   \u001b[1m\u001b[30m\u001b[41m                System.out.println(\"move with legs\");\u001b[0m",
      "\u001b[1m\u001b[30m|   \u001b[1m\u001b[30m\u001b[41m          }\u001b[0m",
      "\u001b[1m\u001b[30m|   \u001b[1m\u001b[30m\u001b[41m   }\u001b[0m",
      "\u001b[1m\u001b[31mtypes Flyable and Movable are incompatible;\u001b[0m",
      "\u001b[1m\u001b[31m  class Bird inherits unrelated defaults for travel() from types Flyable and Movable\u001b[0m",
      ""
     ]
    }
   ],
   "source": [
    "   public interface Flyable{\n",
    "         public void fly();\n",
    "         public default void travel() {\n",
    "              System.out.println(\"travel with wings\");\n",
    "         }\n",
    "   }\n",
    "\n",
    "   public interface Movable{\n",
    "          public void move();\n",
    "          public default void travel() {\n",
    "                 System.out.println(\"travel with legs\");\n",
    "          }\n",
    "   }\n",
    "\n",
    "   public class Bird implements Flyable, Movable{\n",
    "          public void fly() {\n",
    "                System.out.println(\"fly with wings\");\n",
    "          }\n",
    "          public void move() {\n",
    "                System.out.println(\"move with legs\");\n",
    "          }\n",
    "   }\n",
    "\n",
    "Bird b = new Bird();\n",
    "b.fly();\n",
    "b.move();\n",
    "b.travel();"
   ]
  }
 ],
 "metadata": {
  "kernelspec": {
   "display_name": "Java",
   "language": "java",
   "name": "java"
  },
  "language_info": {
   "codemirror_mode": "java",
   "file_extension": ".jshell",
   "mimetype": "text/x-java-source",
   "name": "java",
   "pygments_lexer": "java",
   "version": "21.0.7+8-LTS-245"
  }
 },
 "nbformat": 4,
 "nbformat_minor": 5
}
