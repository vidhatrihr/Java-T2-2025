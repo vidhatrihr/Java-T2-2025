{
 "cells": [
  {
   "cell_type": "code",
   "execution_count": 14,
   "id": "1afa8caf",
   "metadata": {},
   "outputs": [],
   "source": [
    "public class OuterClass {\n",
    "  private class PrivateInnerClass {\n",
    "    public void display() {\n",
    "      System.out.println(\"Inside private class!\");\n",
    "    }\n",
    "  }\n",
    "\n",
    "  public void Main() {\n",
    "    PrivateInnerClass inner = new PrivateInnerClass();\n",
    "    inner.display();\n",
    "  }\n",
    "}"
   ]
  },
  {
   "cell_type": "code",
   "execution_count": 11,
   "id": "75e43113",
   "metadata": {},
   "outputs": [
    {
     "data": {
      "text/plain": [
       "5.0"
      ]
     },
     "execution_count": 11,
     "metadata": {},
     "output_type": "execute_result"
    }
   ],
   "source": [
    "public class Calculator {\n",
    "  private static double addNums(double a, double b) {\n",
    "    return a + b;\n",
    "  }\n",
    "\n",
    "public static double calculateSum(double a, double b) {\n",
    "    return addNums(a,b);\n",
    "  }\n",
    "}\n",
    "\n",
    "Calculator.calculateSum(2,3);"
   ]
  },
  {
   "cell_type": "markdown",
   "id": "87a1eede",
   "metadata": {},
   "source": [
    "## Generics"
   ]
  },
  {
   "cell_type": "code",
   "execution_count": 2,
   "id": "44a5d9d7",
   "metadata": {},
   "outputs": [
    {
     "data": {
      "text/plain": [
       "Hello"
      ]
     },
     "execution_count": 2,
     "metadata": {},
     "output_type": "execute_result"
    }
   ],
   "source": [
    "List list = new ArrayList();\n",
    "list.add(\"Hello\");\n",
    "String s = (String) list.get(0); // Typecasting required\n",
    "s"
   ]
  },
  {
   "cell_type": "code",
   "execution_count": 4,
   "id": "43824e7b",
   "metadata": {},
   "outputs": [
    {
     "data": {
      "text/plain": [
       "Hello"
      ]
     },
     "execution_count": 4,
     "metadata": {},
     "output_type": "execute_result"
    }
   ],
   "source": [
    "List<String> list = new ArrayList<>();\n",
    "list.add(\"Hello\");\n",
    "// No casting needed\n",
    "String s = list.get(0);\n",
    "s"
   ]
  },
  {
   "cell_type": "code",
   "execution_count": 11,
   "id": "3957d5d3",
   "metadata": {},
   "outputs": [
    {
     "data": {
      "text/plain": [
       "Java"
      ]
     },
     "execution_count": 11,
     "metadata": {},
     "output_type": "execute_result"
    }
   ],
   "source": [
    "class Box<T> {\n",
    "    private T value;\n",
    "\n",
    "    public void set(T value) { this.value = value; }\n",
    "    public T get() { return value; }\n",
    "}\n",
    "\n",
    "Box<Integer> intBox = new Box<>();\n",
    "intBox.set(100);\n",
    "\n",
    "Box<String> strBox = new Box<>();\n",
    "strBox.set(\"Java\");\n",
    "\n",
    "intBox.get();\n",
    "strBox.get();"
   ]
  },
  {
   "cell_type": "code",
   "execution_count": 14,
   "id": "16eb8097",
   "metadata": {},
   "outputs": [
    {
     "name": "stdout",
     "output_type": "stream",
     "text": [
      "2\n"
     ]
    }
   ],
   "source": [
    "PriorityQueue<Integer> pq = new PriorityQueue<>();\n",
    "pq.add(10);\n",
    "pq.add(2);\n",
    "pq.add(15);\n",
    "System.out.println(pq.poll()); // 2\n"
   ]
  }
 ],
 "metadata": {
  "kernelspec": {
   "display_name": "Java",
   "language": "java",
   "name": "java"
  },
  "language_info": {
   "codemirror_mode": "java",
   "file_extension": ".jshell",
   "mimetype": "text/x-java-source",
   "name": "java",
   "pygments_lexer": "java",
   "version": "21.0.7+8-LTS-245"
  }
 },
 "nbformat": 4,
 "nbformat_minor": 5
}
