{
 "cells": [
  {
   "cell_type": "code",
   "execution_count": 2,
   "id": "16077c3d",
   "metadata": {},
   "outputs": [],
   "source": [
    "String favKlassName = \"java.util.ArrayList\";\n",
    "Class FavKlass = Class.forName(\"java.util.ArrayList\");"
   ]
  },
  {
   "cell_type": "code",
   "execution_count": 4,
   "id": "688f6a43",
   "metadata": {},
   "outputs": [],
   "source": [
    "class Friend {\n",
    "  static Friend forName(String name) {\n",
    "    return new Friend();\n",
    "  }\n",
    "}\n",
    "\n",
    "String friendName = \"rahul\";\n",
    "Friend friend = Friend.forName(\"rahul\");"
   ]
  },
  {
   "cell_type": "code",
   "execution_count": 8,
   "id": "8e48c200",
   "metadata": {},
   "outputs": [
    {
     "name": "stdout",
     "output_type": "stream",
     "text": [
      "class java.lang.String\n"
     ]
    },
    {
     "name": "stdout",
     "output_type": "stream",
     "text": [
      "class java.lang.String\n",
      "class java.lang.String\n"
     ]
    }
   ],
   "source": [
    "System.out.println(Class.forName(\"java.lang.String\"));\n",
    "System.out.println(String.class);\n",
    "System.out.println(\"rahul\".getClass());"
   ]
  },
  {
   "cell_type": "code",
   "execution_count": 17,
   "id": "f07089a5",
   "metadata": {},
   "outputs": [
    {
     "name": "stdout",
     "output_type": "stream",
     "text": [
      "java.util.Map\n",
      "Map\n",
      "package java.util\n",
      "true\n"
     ]
    }
   ],
   "source": [
    "Class bestKlass = Class.forName(\"java.util.Map\");\n",
    "\n",
    "System.out.println(bestKlass.getName());\n",
    "System.out.println(bestKlass.getSimpleName());\n",
    "System.out.println(bestKlass.getPackage());\n",
    "System.out.println(bestKlass.isInterface());\n"
   ]
  },
  {
   "cell_type": "code",
   "execution_count": 49,
   "id": "af6a2f6d",
   "metadata": {},
   "outputs": [
    {
     "name": "stdout",
     "output_type": "stream",
     "text": [
      "REPL.$JShell$42F$Person(java.lang.String)\n",
      "REPL.$JShell$42F$Person(java.lang.String,int)\n",
      "REPL.$JShell$42F$Person@2ddddc26\n",
      "REPL.$JShell$42F$Person@231a27ed\n"
     ]
    }
   ],
   "source": [
    "import java.lang.reflect.*;\n",
    "\n",
    "class Person {\n",
    "  String name;\n",
    "  int age;\n",
    "  Person(String name) {}\n",
    "  Person(String name, int age) {}\n",
    "\n",
    "  private static final void eat() {}\n",
    "  public static final void sleep() {}\n",
    "}\n",
    "\n",
    "Constructor[] cstrs = Person.class.getDeclaredConstructors();\n",
    "for (Constructor cstr : cstrs) {\n",
    "  System.out.println(cstr);\n",
    "}\n",
    "\n",
    "Constructor cstr1 = cstrs[0];\n",
    "Constructor cstr2 = cstrs[1];\n",
    "\n",
    "Person vidu = (Person) cstr1.newInstance(\"vidu\");\n",
    "Person rahul =(Person)  cstr2.newInstance(\"rahul\", 50);\n",
    "\n",
    "System.out.println(vidu);\n",
    "System.out.println(rahul);"
   ]
  },
  {
   "cell_type": "code",
   "execution_count": 53,
   "id": "75db718b",
   "metadata": {},
   "outputs": [
    {
     "name": "stdout",
     "output_type": "stream",
     "text": [
      "name\n",
      "age\n",
      "false\n",
      "true\n"
     ]
    }
   ],
   "source": [
    "Class personKlass = Person.class;\n",
    "\n",
    "Field[] fields = personKlass.getDeclaredFields();\n",
    "\n",
    "for(Field f : fields) {\n",
    "  System.out.println(f.getName());\n",
    "}\n",
    "\n",
    "Method[] methods = personKlass.getDeclaredMethods();\n",
    "\n",
    "for (Method method : methods) {\n",
    "  // System.out.println(method.getName());\n",
    "  System.out.println(Modifier.isPrivate(method.getModifiers()));\n",
    "}"
   ]
  },
  {
   "cell_type": "code",
   "execution_count": 59,
   "id": "6f3e593a",
   "metadata": {},
   "outputs": [
    {
     "data": {
      "text/plain": [
       "apple"
      ]
     },
     "execution_count": 59,
     "metadata": {},
     "output_type": "execute_result"
    }
   ],
   "source": [
    "List fruits = new ArrayList();\n",
    "fruits.add(\"apple\");\n",
    "fruits.add(10);\n",
    "\n",
    "String fruit = (String) fruits.get(0);\n",
    "fruit"
   ]
  },
  {
   "cell_type": "code",
   "execution_count": null,
   "id": "58e974b8",
   "metadata": {},
   "outputs": [],
   "source": [
    "class Box<T extends Number> {\n",
    "  void test(T item) {}\n",
    "}\n",
    "\n",
    "Box<Integer> box = new Box<>();"
   ]
  },
  {
   "cell_type": "code",
   "execution_count": 70,
   "id": "ba2e8810",
   "metadata": {},
   "outputs": [
    {
     "name": "stdout",
     "output_type": "stream",
     "text": [
      "ABC\n",
      "5.5\n"
     ]
    }
   ],
   "source": [
    "class Repository<T1,T2>{\n",
    "     T1 item1;\n",
    "     T2 item2;\n",
    "     Repository(T1 x,T2 y){\n",
    "         this.item1=x;\n",
    "         this.item2=y;\n",
    "     }\n",
    "     public T1 getItem1(){\n",
    "         return item1;\n",
    "     }\n",
    "     public T2 getItem2(){\n",
    "         return item2;\n",
    "     }\n",
    "}\n",
    "public class Test{\n",
    "     public static void main(){\n",
    "           Repository<String,Double> obj=new Repository<String,Double>(\"ABC\",5.5);\n",
    "           System.out.println(obj.getItem1()+\"\\n\"+obj.getItem2());\n",
    "     }\n",
    "}\n",
    "\n",
    "Test.main();"
   ]
  },
  {
   "cell_type": "code",
   "execution_count": 3,
   "id": "66d7769e",
   "metadata": {},
   "outputs": [],
   "source": [
    "class Test {\n",
    "  <T> void show(T[] arr) {}\n",
    "}\n",
    "\n",
    "new Test().show(new Integer[5])"
   ]
  },
  {
   "cell_type": "code",
   "execution_count": 4,
   "id": "e7e24bda",
   "metadata": {},
   "outputs": [],
   "source": [
    "class Repository<T extends Number & Runnable>{\n",
    "//Some codes here.\n",
    "}"
   ]
  },
  {
   "cell_type": "code",
   "execution_count": 8,
   "id": "53b0f8c4",
   "metadata": {},
   "outputs": [
    {
     "name": "stdout",
     "output_type": "stream",
     "text": [
      "[Hello, Hola, Hey, false, 10]\n"
     ]
    }
   ],
   "source": [
    "import java.util.*;\n",
    "class Test{\n",
    "      public static void main(){\n",
    "              ArrayList<String> list=new ArrayList<String>();\n",
    "              list.add(\"Hello\");\n",
    "              list.add(\"Hola\");\n",
    "              list.add(\"Hey\");\n",
    "              adding(list);\n",
    "              System.out.println(list);\n",
    "      }\n",
    "      static void adding(ArrayList l){\n",
    "              l.add(false);\n",
    "              l.add(10);\n",
    "      }\n",
    "}\n",
    "\n",
    "Test.main()"
   ]
  },
  {
   "cell_type": "code",
   "execution_count": 16,
   "id": "3c0090f4",
   "metadata": {},
   "outputs": [
    {
     "name": "stdout",
     "output_type": "stream",
     "text": [
      "equals\n",
      "toString\n",
      "hashCode\n",
      "getClass\n",
      "notify\n",
      "notifyAll\n",
      "wait\n",
      "wait\n",
      "wait\n"
     ]
    }
   ],
   "source": [
    "import java.lang.reflect.*;\n",
    "\n",
    "Class myKlass = Object.class;\n",
    "\n",
    "for (Method m : myKlass.getMethods()) {\n",
    "  System.out.println(m.getName());\n",
    "  \n",
    "}\n",
    "\n"
   ]
  },
  {
   "cell_type": "code",
   "execution_count": 18,
   "id": "84e5295c",
   "metadata": {},
   "outputs": [
    {
     "name": "stdout",
     "output_type": "stream",
     "text": [
      "Inner catch: Invalid payment amount\n",
      "Outer catch: Transaction failed - Invalid payment amount\n"
     ]
    }
   ],
   "source": [
    "class PaymentException extends Exception {\n",
    "   public PaymentException(String msg) {\n",
    "     super(msg);\n",
    "   }\n",
    "}\n",
    "public class PaymentProcessor {\n",
    "     public static void validatePayment(String method, double amount) throws PaymentException {\n",
    "    if (amount <= 0) {\n",
    "        throw new PaymentException(\"Invalid payment amount\");\n",
    "   }\n",
    "   System.out.println(\"Payment validated\");\n",
    "}\n",
    "public static void main(String[] args) {\n",
    "   try {\n",
    "       \ttry {\n",
    "             validatePayment(\"card\", 0.0);\n",
    "      } catch (PaymentException e) {\n",
    "       System.out.println(\"Inner catch: \" + e.getMessage());\n",
    "       throw e;\n",
    "    }\n",
    "} catch (PaymentException e) {\n",
    "          System.out.println(\"Outer catch: Transaction failed - \" + e.getMessage());\n",
    "      }\n",
    "    }\n",
    " }\n",
    "\n",
    " PaymentProcessor.main(new String[2])"
   ]
  },
  {
   "cell_type": "code",
   "execution_count": 19,
   "id": "d49a71f5",
   "metadata": {},
   "outputs": [
    {
     "name": "stdout",
     "output_type": "stream",
     "text": [
      "Reading file: data.txt\n",
      "Caught in processFiles\n",
      "Caught in main\n"
     ]
    }
   ],
   "source": [
    "class FileHandler {\n",
    "    public static void readFile(String fileName) throws Exception {\n",
    "        if (fileName == null) {\n",
    "            throw new Exception(\"Filename is null\");\n",
    "            }\n",
    "            System.out.println(\"Reading file: \" + fileName);\n",
    "    }\n",
    "    public static void processFiles() throws Exception {\n",
    "         try {\n",
    "            readFile(\"data.txt\");\n",
    "            readFile(null);\n",
    "               } catch (Exception e) {\n",
    "                    System.out.println(\"Caught in processFiles\");\n",
    "                    throw e;\n",
    "                }\n",
    "           }\n",
    "        }\n",
    "public class FileTest {\n",
    "       public static void main(String[] args) throws Throwable {\n",
    "        try {\n",
    "   \t    FileHandler.processFiles();\n",
    "       } catch (Exception e) {\n",
    "             System.out.println(\"Caught in main\");\n",
    "       }\n",
    "    }\n",
    "}\n",
    "\n",
    "FileTest.main(new String[2])"
   ]
  }
 ],
 "metadata": {
  "kernelspec": {
   "display_name": "Java",
   "language": "java",
   "name": "java"
  },
  "language_info": {
   "codemirror_mode": "java",
   "file_extension": ".jshell",
   "mimetype": "text/x-java-source",
   "name": "java",
   "pygments_lexer": "java",
   "version": "21.0.7+8-LTS-245"
  }
 },
 "nbformat": 4,
 "nbformat_minor": 5
}
